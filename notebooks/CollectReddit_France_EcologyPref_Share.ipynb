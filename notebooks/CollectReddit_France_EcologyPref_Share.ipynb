{
 "cells": [
  {
   "cell_type": "markdown",
   "metadata": {},
   "source": [
    "# Introduction\n",
    "This notebook collects posts and comments related to climate change from the France sub reddit. \n",
    "It passes the keyword list as small batches of 2 or 3 keywords.\n",
    "Posts or comments whose id is already in the dataframe are passed, removing duplicates.\n"
   ]
  },
  {
   "cell_type": "code",
   "execution_count": 35,
   "metadata": {},
   "outputs": [],
   "source": [
    "import praw\n",
    "import fasttext\n",
    "import datetime as dt\n",
    "import pandas as pd\n",
    "import unicodedata\n",
    "import time\n",
    "\n",
    "# 1. Authenticate\n",
    "reddit = praw.Reddit(\n",
    "    client_id=\"\",         \n",
    "    client_secret=\"\",  \n",
    "    user_agent=\"\"\n",
    ")"
   ]
  },
  {
   "cell_type": "code",
   "execution_count": null,
   "metadata": {},
   "outputs": [],
   "source": [
    "\n",
    "# Getting the french fasttext model\n",
    "import urllib.request, fasttext\n",
    "url = \"https://dl.fbaipublicfiles.com/fasttext/supervised-models/lid.176.ftz\"\n",
    "urllib.request.urlretrieve(url, \"lid.176.ftz\")\n",
    "\n",
    "model = fasttext.load_model(\"lid.176.ftz\")\n",
    "print(model.predict(\"Le camembert est bon\"))"
   ]
  },
  {
   "cell_type": "code",
   "execution_count": 33,
   "metadata": {},
   "outputs": [
    {
     "name": "stdout",
     "output_type": "stream",
     "text": [
      "Querying r/france: climat OR \"effet de serre\" OR carbone\n"
     ]
    },
    {
     "name": "stderr",
     "output_type": "stream",
     "text": [
      "/var/folders/lr/9j9y4hfj3pqckz8myt4txx0cg1657r/T/ipykernel_6993/830022292.py:64: DeprecationWarning: datetime.datetime.utcfromtimestamp() is deprecated and scheduled for removal in a future version. Use timezone-aware objects to represent datetimes in UTC: datetime.datetime.fromtimestamp(timestamp, datetime.UTC).\n",
      "  \"created\"  : dt.datetime.utcfromtimestamp(post.created_utc),\n",
      "/var/folders/lr/9j9y4hfj3pqckz8myt4txx0cg1657r/T/ipykernel_6993/830022292.py:90: DeprecationWarning: datetime.datetime.utcfromtimestamp() is deprecated and scheduled for removal in a future version. Use timezone-aware objects to represent datetimes in UTC: datetime.datetime.fromtimestamp(timestamp, datetime.UTC).\n",
      "  \"created\"  : dt.datetime.utcfromtimestamp(com.created_utc),\n"
     ]
    },
    {
     "name": "stdout",
     "output_type": "stream",
     "text": [
      "Querying r/france: renouvelable OR énergie OR durable OR durabilité\n",
      "Querying r/france: canicule OR canicules\n",
      "Querying r/france: écologie OR écologique\n",
      "Querying r/france: éco-conscient OR \"eco-friendly\"\n",
      "Querying r/france: environnement OR environnemental OR environnementale OR CO2 OR \"montée des eaux\" OR \"niveau de la mer\" OR \"événements météorologiques extrêmes\"\n",
      "Saved 26,733 rows to r_france_climate_posts_comments.csv\n"
     ]
    }
   ],
   "source": [
    "# ── 1. Target subreddit ───────────────────────────────────────────────────\n",
    "SUB = \"france\"\n",
    "\n",
    "# ── 2. Climate keyword batches (<512 chars each) ──────────────────────────\n",
    "BATCHES = [\n",
    "    [\"climat\", '\"effet de serre\"', \"carbone\"],\n",
    "    [\"renouvelable\", \"énergie\", \"durable\", \"durabilité\"],\n",
    "    [\"canicule\", \"canicules\"],\n",
    "    [\"écologie\", \"écologique\"],\n",
    "    [\"éco-conscient\", '\"eco-friendly\"'],\n",
    "    [\"environnement\", \"environnemental\", \"environnementale\",\n",
    "     \"CO2\", '\"montée des eaux\"', '\"niveau de la mer\"',\n",
    "     '\"événements météorologiques extrêmes\"']\n",
    "]\n",
    "\n",
    "# ── 3. FastText language detector ─────────────────────────────────────────\n",
    "ft = fasttext.load_model(\"lid.176.ftz\")    \n",
    "\n",
    "def is_french(text: str, threshold: float = 0.60) -> bool:\n",
    "    \"\"\"\n",
    "    Returns True if `text` is French with probability > threshold.\n",
    "    - strips accents & newlines (fastText needs one-line input)\n",
    "    \"\"\"\n",
    "    cleaned = unicodedata.normalize(\"NFKD\", text.lower())\\\n",
    "                          .encode(\"ascii\", \"ignore\").decode()\\\n",
    "                          .replace(\"\\n\", \" \").strip()\n",
    "    if not cleaned:\n",
    "        return False\n",
    "    label, prob = ft.predict(cleaned, k=1)   # (['__label__fr'], [0.95])\n",
    "    return label[0] == \"__label__fr\" and prob[0] > threshold\n",
    "\n",
    "# ── 4. Harvest loop ───────────────────────────────────────────────────────\n",
    "rows, seen_ids = [], set()\n",
    "sr = reddit.subreddit(SUB)\n",
    "\n",
    "for terms in BATCHES:\n",
    "    query = \" OR \".join(terms)\n",
    "    print(f\"Querying r/{SUB}: {query}\")\n",
    "    \n",
    "    for post in sr.search(query, sort=\"new\", time_filter=\"year\", limit=None):\n",
    "        if post.id in seen_ids:\n",
    "            continue\n",
    "        seen_ids.add(post.id)\n",
    "\n",
    "        post_text = f\"{post.title}\\n{post.selftext or ''}\"\n",
    "        if not is_french(post_text):\n",
    "            continue\n",
    "\n",
    "        # save submission\n",
    "        rows.append({\n",
    "            \"kind\"     : \"post\",\n",
    "            \"id\"       : post.id,\n",
    "            \"parent_id\": \"\",\n",
    "            \"created\"  : dt.datetime.utcfromtimestamp(post.created_utc),\n",
    "            \"subreddit\": SUB,\n",
    "            \"body\"     : post_text,\n",
    "            \"score\"    : post.score,\n",
    "            \"url\"      : post.url\n",
    "        })\n",
    "\n",
    "        # pull full comment tree\n",
    "        try:\n",
    "            post.comments.replace_more(limit=None)\n",
    "        except Exception as e:\n",
    "            print(f\"replace_more failed on {post.id}: {e}\")\n",
    "            continue\n",
    "\n",
    "        for com in post.comments.list():\n",
    "            if com.id in seen_ids:\n",
    "                continue\n",
    "            seen_ids.add(com.id)\n",
    "\n",
    "            if not is_french(com.body):\n",
    "                continue\n",
    "\n",
    "            rows.append({\n",
    "                \"kind\"     : \"comment\",\n",
    "                \"id\"       : com.id,\n",
    "                \"parent_id\": com.parent_id.split(\"_\")[1],  # strip t1_/t3_\n",
    "                \"created\"  : dt.datetime.utcfromtimestamp(com.created_utc),\n",
    "                \"subreddit\": SUB,\n",
    "                \"body\"     : com.body,\n",
    "                \"score\"    : com.score\n",
    "            })\n",
    "    \n",
    "    time.sleep(1.1)   # stay under 60 requests/minute\n",
    "\n",
    "# ── 5. Save to CSV ────────────────────────────────────────────────────────\n",
    "df = pd.DataFrame(rows)\n",
    "df.to_csv(\"r_france_climate_posts_comments.csv\", index=False)\n",
    "print(f\"Saved {len(df):,} rows to r_france_climate_posts_comments.csv\")"
   ]
  }
 ],
 "metadata": {
  "kernelspec": {
   "display_name": "Python 3",
   "language": "python",
   "name": "python3"
  },
  "language_info": {
   "codemirror_mode": {
    "name": "ipython",
    "version": 3
   },
   "file_extension": ".py",
   "mimetype": "text/x-python",
   "name": "python",
   "nbconvert_exporter": "python",
   "pygments_lexer": "ipython3",
   "version": "3.12.4"
  }
 },
 "nbformat": 4,
 "nbformat_minor": 2
}

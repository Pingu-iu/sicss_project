{
 "cells": [
  {
   "cell_type": "code",
   "execution_count": 12,
   "id": "27ec71d9-7881-4947-bfb6-5abea75bd691",
   "metadata": {},
   "outputs": [],
   "source": [
    "# HOW TO USE THIS SCRIPT\n",
    "#1) in authorization put your own credentials, get them here: https://www.reddit.com/prefs/apps\n",
    "#2) change keywords if work with different language\n",
    "#3) change subreddit name if work with different counrty \n",
    "#4)TEST_MODE object: if true, it will collect only 200 units, if false it will collect as much as possible "
   ]
  },
  {
   "cell_type": "code",
   "execution_count": null,
   "id": "b96a837c-f3bf-4692-86ae-0a2cc9aaac13",
   "metadata": {
    "scrolled": true
   },
   "outputs": [],
   "source": [
    "#pip install praw"
   ]
  },
  {
   "cell_type": "code",
   "execution_count": 1,
   "id": "b1d23cdb-699d-4d36-beeb-09202636c2d8",
   "metadata": {},
   "outputs": [],
   "source": [
    "import praw #(https://praw.readthedocs.io/en/stable/index.html)\n",
    "import csv\n",
    "from datetime import datetime"
   ]
  },
  {
   "cell_type": "code",
   "execution_count": 3,
   "id": "015d2880-f740-4ec5-a947-cc2a2d4db5e6",
   "metadata": {},
   "outputs": [],
   "source": [
    "#authorization \n",
    "#to use Reddit API you need to create an account and register here: https://www.reddit.com/prefs/apps\n",
    "\n",
    "reddit = praw.Reddit(\n",
    "    client_id=\"0mEdu6IZsH-McQZh9cbEoA\",\n",
    "    client_secret=\"abZ6QNa6scQDujsaIfyvL_6xfJIklQ\",\n",
    "    user_agent=\"siccs_project\",\n",
    ")"
   ]
  },
  {
   "cell_type": "code",
   "execution_count": 8,
   "id": "40f3e559-9ff7-458a-ab7c-42e08b3ff48d",
   "metadata": {},
   "outputs": [],
   "source": [
    "#set parameters \n",
    "#change keywords to another language here\n",
    "keywords = [\n",
    "    \"Klima\",\n",
    "    \"Erwärmung\",\n",
    "    \"CO2\",\n",
    "    \"erneuerbar\",\n",
    "    \"erneuerbare Energien\",\n",
    "    \"Hitzewelle\",\n",
    "    \"Energie\",\n",
    "    \"Ökologie\",\n",
    "    \"ökologisch\",\n",
    "    \"umweltbewusst\",\n",
    "    \"klimabewusst\",\n",
    "    \"ökologisch denkend\",\n",
    "    \"umweltfreundlich\",\n",
    "    \"klimafreundlich\",\n",
    "    \"nachhaltig\",\n",
    "    \"Umwelt\",\n",
    "    \"umweltbezogen\",\n",
    "    \"umweltpolitisch\",\n",
    "    \"Umweltschutz\",\n",
    "    \"Umweltprobleme\",\n",
    "    \"Nachhaltigkeit\",\n",
    "    \"nachhaltig\",\n",
    "    \"CO2-Ausstoß\",\n",
    "    \"CO2-Emissionen\",\n",
    "    \"Meeresspiegelanstieg\",\n",
    "    \"steigender Meeresspiegel\",\n",
    "    \"extremes Wetter\",\n",
    "    \"Wetterextreme\",\n",
    "    \"Unwetterereignisse\",\n",
    "    \"Extremwetter\"\n",
    "]\n",
    "subreddit_name = \"de\"  #here change the subreddit for a country \n",
    "TEST_MODE = True  #set to False to collect ALL matching posts/comments\n",
    "MAX_RECORDS = 200 if TEST_MODE else float('inf')\n",
    "\n",
    "#storage\n",
    "results = []\n",
    "author_map = {}\n",
    "author_counter = 1"
   ]
  },
  {
   "cell_type": "code",
   "execution_count": 9,
   "id": "c71c0f10-363d-4d06-87be-1b2e3f3e3f47",
   "metadata": {},
   "outputs": [],
   "source": [
    "#function for user anonymization\n",
    "def get_anonymous_author(username):\n",
    "    global author_counter\n",
    "    if username is None:\n",
    "        return \"user_unknown\"\n",
    "    if username not in author_map:\n",
    "        author_map[username] = f\"user_{author_counter}\"\n",
    "        author_counter += 1\n",
    "    return author_map[username]"
   ]
  },
  {
   "cell_type": "code",
   "execution_count": 10,
   "id": "785c7a91-36d9-4e34-a842-ec866eca07c1",
   "metadata": {},
   "outputs": [],
   "source": [
    "#main collecting lopp\n",
    "subreddit = reddit.subreddit(subreddit_name)\n",
    "\n",
    "#collecting data\n",
    "query = \" OR \".join(keywords)\n",
    "\n",
    "for submission in subreddit.search(query, sort=\"new\", time_filter=\"all\", limit=None):\n",
    "    if len(results) >= MAX_RECORDS:\n",
    "        break\n",
    "\n",
    "    #check if any keyword appears in title or body of text\n",
    "    if any(kw.lower() in (submission.title + \" \" + submission.selftext).lower() for kw in keywords):\n",
    "        results.append({\n",
    "            \"type\": \"post\",\n",
    "            \"keyword\": next((kw for kw in keywords if kw.lower() in (submission.title + \" \" + submission.selftext).lower()), \"\"),\n",
    "            \"post_id\": submission.id,\n",
    "            \"post_title\": submission.title,\n",
    "            \"post_body\": submission.selftext if submission.selftext.strip() else submission.url,\n",
    "            \"post_upvotes\": submission.score,\n",
    "            \"post_upvote_ratio\": submission.upvote_ratio,\n",
    "            \"post_num_comments\": submission.num_comments,\n",
    "            \"post_created_utc\": submission.created_utc,\n",
    "            \"post_url\": submission.url,\n",
    "            \"post_subreddit\": submission.subreddit.display_name,\n",
    "            \"post_author_anon\": get_anonymous_author(str(submission.author)),\n",
    "            \"comment_id\": \"\",\n",
    "            \"comment_body\": \"\",\n",
    "            \"comment_upvotes\": \"\",\n",
    "            \"comment_created_utc\": \"\",\n",
    "            \"comment_author_anon\": \"\"\n",
    "        })\n",
    "\n",
    "    if len(results) >= MAX_RECORDS:\n",
    "        break\n",
    "\n",
    "    submission.comments.replace_more(limit=None)\n",
    "    for comment in submission.comments.list(): \n",
    "        if len(results) >= MAX_RECORDS:\n",
    "            break\n",
    "\n",
    "        if any(kw.lower() in comment.body.lower() for kw in keywords):\n",
    "            results.append({\n",
    "                \"type\": \"comment\",\n",
    "                \"keyword\": next((kw for kw in keywords if kw.lower() in comment.body.lower()), \"\"),\n",
    "                \"post_id\": submission.id,\n",
    "                \"post_title\": submission.title,\n",
    "                \"post_body\": \"\",\n",
    "                \"post_upvotes\": \"\",\n",
    "                \"post_upvote_ratio\": \"\",\n",
    "                \"post_num_comments\": \"\",\n",
    "                \"post_created_utc\": \"\",\n",
    "                \"post_url\": submission.url,\n",
    "                \"post_subreddit\": submission.subreddit.display_name,\n",
    "                \"post_author_anon\": \"\",\n",
    "                \"comment_id\": comment.id,\n",
    "                \"comment_body\": comment.body,\n",
    "                \"comment_upvotes\": comment.score,\n",
    "                \"comment_created_utc\": comment.created_utc,\n",
    "                \"comment_author_anon\": get_anonymous_author(str(comment.author))\n",
    "            })\n"
   ]
  },
  {
   "cell_type": "code",
   "execution_count": 11,
   "id": "dc4fb256-e562-4735-a7db-0f72ff0fc189",
   "metadata": {},
   "outputs": [
    {
     "name": "stdout",
     "output_type": "stream",
     "text": [
      "Saved 200 records to reddit_test_dataset.csv\n"
     ]
    }
   ],
   "source": [
    "#save to csv\n",
    "filename = \"reddit_test_dataset.csv\" if TEST_MODE else \"reddit_full_dataset.csv\"\n",
    "with open(filename, \"w\", newline='', encoding='utf-8') as f:\n",
    "    writer = csv.DictWriter(f, fieldnames=results[0].keys())\n",
    "    writer.writeheader()\n",
    "    writer.writerows(results)\n",
    "\n",
    "print(f\"Saved {len(results)} records to {filename}\")"
   ]
  },
  {
   "cell_type": "code",
   "execution_count": null,
   "id": "27f49a75-5980-491b-a0c9-3f4f1495a010",
   "metadata": {},
   "outputs": [],
   "source": []
  },
  {
   "cell_type": "code",
   "execution_count": null,
   "id": "95a5bb52-b4e4-4f04-b53a-029af27f4b3b",
   "metadata": {},
   "outputs": [],
   "source": []
  },
  {
   "cell_type": "code",
   "execution_count": null,
   "id": "75336880-b854-4bbb-86c5-070625b88d7a",
   "metadata": {},
   "outputs": [],
   "source": []
  }
 ],
 "metadata": {
  "kernelspec": {
   "display_name": "Python 3 (ipykernel)",
   "language": "python",
   "name": "python3"
  },
  "language_info": {
   "codemirror_mode": {
    "name": "ipython",
    "version": 3
   },
   "file_extension": ".py",
   "mimetype": "text/x-python",
   "name": "python",
   "nbconvert_exporter": "python",
   "pygments_lexer": "ipython3",
   "version": "3.12.3"
  }
 },
 "nbformat": 4,
 "nbformat_minor": 5
}
